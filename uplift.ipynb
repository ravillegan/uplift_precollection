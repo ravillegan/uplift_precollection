{
  "nbformat": 4,
  "nbformat_minor": 0,
  "metadata": {
    "colab": {
      "name": "uplift.ipynb",
      "provenance": []
    },
    "kernelspec": {
      "name": "python3",
      "display_name": "Python 3"
    },
    "language_info": {
      "name": "python"
    }
  },
  "cells": [
    {
      "cell_type": "code",
      "metadata": {
        "colab": {
          "base_uri": "https://localhost:8080/"
        },
        "id": "W_IKg3fB2vmx",
        "outputId": "5b653dde-3853-404f-fd7b-ef4b3ab6368c"
      },
      "source": [
        "!pip install scikit-uplift catboost==0.22 -U"
      ],
      "execution_count": null,
      "outputs": [
        {
          "output_type": "stream",
          "text": [
            "Collecting scikit-uplift\n",
            "  Downloading https://files.pythonhosted.org/packages/84/02/257804cdb44a8a96088b58c436cbf83e8fb1fd5b353afe7ff056d2e95a20/scikit_uplift-0.3.2-py3-none-any.whl\n",
            "Collecting catboost==0.22\n",
            "\u001b[?25l  Downloading https://files.pythonhosted.org/packages/d7/60/f1d3e0a5fed37826ee72fef93599bcb94c594bb487a6820a85dfc86c0f2c/catboost-0.22-cp37-none-manylinux1_x86_64.whl (64.4MB)\n",
            "\u001b[K     |████████████████████████████████| 64.4MB 53kB/s \n",
            "\u001b[?25hRequirement already satisfied, skipping upgrade: matplotlib in /usr/local/lib/python3.7/dist-packages (from scikit-uplift) (3.2.2)\n",
            "Requirement already satisfied, skipping upgrade: pandas in /usr/local/lib/python3.7/dist-packages (from scikit-uplift) (1.1.5)\n",
            "Requirement already satisfied, skipping upgrade: requests in /usr/local/lib/python3.7/dist-packages (from scikit-uplift) (2.23.0)\n",
            "Requirement already satisfied, skipping upgrade: scikit-learn>=0.21.0 in /usr/local/lib/python3.7/dist-packages (from scikit-uplift) (0.22.2.post1)\n",
            "Requirement already satisfied, skipping upgrade: numpy>=1.16 in /usr/local/lib/python3.7/dist-packages (from scikit-uplift) (1.19.5)\n",
            "Requirement already satisfied, skipping upgrade: six in /usr/local/lib/python3.7/dist-packages (from catboost==0.22) (1.15.0)\n",
            "Requirement already satisfied, skipping upgrade: scipy in /usr/local/lib/python3.7/dist-packages (from catboost==0.22) (1.4.1)\n",
            "Requirement already satisfied, skipping upgrade: graphviz in /usr/local/lib/python3.7/dist-packages (from catboost==0.22) (0.10.1)\n",
            "Requirement already satisfied, skipping upgrade: plotly in /usr/local/lib/python3.7/dist-packages (from catboost==0.22) (4.4.1)\n",
            "Requirement already satisfied, skipping upgrade: cycler>=0.10 in /usr/local/lib/python3.7/dist-packages (from matplotlib->scikit-uplift) (0.10.0)\n",
            "Requirement already satisfied, skipping upgrade: kiwisolver>=1.0.1 in /usr/local/lib/python3.7/dist-packages (from matplotlib->scikit-uplift) (1.3.1)\n",
            "Requirement already satisfied, skipping upgrade: pyparsing!=2.0.4,!=2.1.2,!=2.1.6,>=2.0.1 in /usr/local/lib/python3.7/dist-packages (from matplotlib->scikit-uplift) (2.4.7)\n",
            "Requirement already satisfied, skipping upgrade: python-dateutil>=2.1 in /usr/local/lib/python3.7/dist-packages (from matplotlib->scikit-uplift) (2.8.1)\n",
            "Requirement already satisfied, skipping upgrade: pytz>=2017.2 in /usr/local/lib/python3.7/dist-packages (from pandas->scikit-uplift) (2018.9)\n",
            "Requirement already satisfied, skipping upgrade: idna<3,>=2.5 in /usr/local/lib/python3.7/dist-packages (from requests->scikit-uplift) (2.10)\n",
            "Requirement already satisfied, skipping upgrade: urllib3!=1.25.0,!=1.25.1,<1.26,>=1.21.1 in /usr/local/lib/python3.7/dist-packages (from requests->scikit-uplift) (1.24.3)\n",
            "Requirement already satisfied, skipping upgrade: chardet<4,>=3.0.2 in /usr/local/lib/python3.7/dist-packages (from requests->scikit-uplift) (3.0.4)\n",
            "Requirement already satisfied, skipping upgrade: certifi>=2017.4.17 in /usr/local/lib/python3.7/dist-packages (from requests->scikit-uplift) (2020.12.5)\n",
            "Requirement already satisfied, skipping upgrade: joblib>=0.11 in /usr/local/lib/python3.7/dist-packages (from scikit-learn>=0.21.0->scikit-uplift) (1.0.1)\n",
            "Requirement already satisfied, skipping upgrade: retrying>=1.3.3 in /usr/local/lib/python3.7/dist-packages (from plotly->catboost==0.22) (1.3.3)\n",
            "Installing collected packages: scikit-uplift, catboost\n",
            "Successfully installed catboost-0.22 scikit-uplift-0.3.2\n"
          ],
          "name": "stdout"
        }
      ]
    },
    {
      "cell_type": "code",
      "metadata": {
        "id": "mf7yeqUC2zIc"
      },
      "source": [
        "import pandas as pd\n",
        "df = pd.read_excel('/content/uplift_data.xlsx')#, index_col='account_rk')\n",
        "df = df.sample(frac=1)"
      ],
      "execution_count": null,
      "outputs": []
    },
    {
      "cell_type": "code",
      "metadata": {
        "colab": {
          "base_uri": "https://localhost:8080/"
        },
        "id": "pIHDuWO4wqMZ",
        "outputId": "a3d2168d-8e5c-4840-d18b-a94e28b592dc"
      },
      "source": [
        "df.columns"
      ],
      "execution_count": null,
      "outputs": [
        {
          "output_type": "execute_result",
          "data": {
            "text/plain": [
              "Index(['account_rk', 'statement_dt', 'curr_due_dt', 'miss_due_cnt', 'dt',\n",
              "       'bot_fio', 'bot_mp', 'p_def', 'w', 'y', 'due_by_limit_100',\n",
              "       'balance_by_limit', 'due_by_balance', 'max_missed_due_cnt',\n",
              "       'statement_num', 'onse_was_tunnel_flg', 'pd_base_calibrated', 'age',\n",
              "       'gender_cd', 'education_level_cd', 'marital_status_cd', 'children_cnt',\n",
              "       'monthly_income_amt', 'due_by_income', 'time_zone_cd',\n",
              "       'job_position_cd'],\n",
              "      dtype='object')"
            ]
          },
          "metadata": {
            "tags": []
          },
          "execution_count": 4
        }
      ]
    },
    {
      "cell_type": "code",
      "metadata": {
        "id": "J2yI_QX718or"
      },
      "source": [
        ""
      ],
      "execution_count": null,
      "outputs": []
    },
    {
      "cell_type": "code",
      "metadata": {
        "colab": {
          "base_uri": "https://localhost:8080/"
        },
        "id": "KFUi1-ICyJeL",
        "outputId": "23a247c6-7ff6-45c6-a1fa-b21084c1a5ea"
      },
      "source": [
        "df_ = df.copy()\n",
        "df_ = df_.drop(['statement_dt','curr_due_dt', 'miss_due_cnt', 'dt'], axis=1)\n",
        "df_['new_rk'] = df_['account_rk'].astype(str) + df_['statement_num'].astype(str) + df_['statement_num'].astype(str)\n",
        "df_ = df_.drop_duplicates(subset=['new_rk'])\n",
        "df_ = df_.drop(['account_rk'], axis=1)\n",
        "df_ = df_.set_index('new_rk')\n",
        "len(df_[df_['balance_by_limit'].isnull()])\n",
        "#len(df_[df_.duplicated(keep=False, subset=['new_rk'])].sort_values(by=['new_rk']))"
      ],
      "execution_count": null,
      "outputs": [
        {
          "output_type": "execute_result",
          "data": {
            "text/plain": [
              "1617"
            ]
          },
          "metadata": {
            "tags": []
          },
          "execution_count": 5
        }
      ]
    },
    {
      "cell_type": "code",
      "metadata": {
        "colab": {
          "base_uri": "https://localhost:8080/",
          "height": 470
        },
        "id": "rb3KbyD6204t",
        "outputId": "74b38928-f3b1-49c9-b033-261a1723a9b4"
      },
      "source": [
        "df_clients = df_.drop(['w','y'], axis=1)\n",
        "df_clients"
      ],
      "execution_count": null,
      "outputs": [
        {
          "output_type": "execute_result",
          "data": {
            "text/html": [
              "<div>\n",
              "<style scoped>\n",
              "    .dataframe tbody tr th:only-of-type {\n",
              "        vertical-align: middle;\n",
              "    }\n",
              "\n",
              "    .dataframe tbody tr th {\n",
              "        vertical-align: top;\n",
              "    }\n",
              "\n",
              "    .dataframe thead th {\n",
              "        text-align: right;\n",
              "    }\n",
              "</style>\n",
              "<table border=\"1\" class=\"dataframe\">\n",
              "  <thead>\n",
              "    <tr style=\"text-align: right;\">\n",
              "      <th></th>\n",
              "      <th>bot_fio</th>\n",
              "      <th>bot_mp</th>\n",
              "      <th>p_def</th>\n",
              "      <th>due_by_limit_100</th>\n",
              "      <th>balance_by_limit</th>\n",
              "      <th>due_by_balance</th>\n",
              "      <th>max_missed_due_cnt</th>\n",
              "      <th>statement_num</th>\n",
              "      <th>onse_was_tunnel_flg</th>\n",
              "      <th>pd_base_calibrated</th>\n",
              "      <th>age</th>\n",
              "      <th>gender_cd</th>\n",
              "      <th>education_level_cd</th>\n",
              "      <th>marital_status_cd</th>\n",
              "      <th>children_cnt</th>\n",
              "      <th>monthly_income_amt</th>\n",
              "      <th>due_by_income</th>\n",
              "      <th>time_zone_cd</th>\n",
              "      <th>job_position_cd</th>\n",
              "    </tr>\n",
              "    <tr>\n",
              "      <th>new_rk</th>\n",
              "      <th></th>\n",
              "      <th></th>\n",
              "      <th></th>\n",
              "      <th></th>\n",
              "      <th></th>\n",
              "      <th></th>\n",
              "      <th></th>\n",
              "      <th></th>\n",
              "      <th></th>\n",
              "      <th></th>\n",
              "      <th></th>\n",
              "      <th></th>\n",
              "      <th></th>\n",
              "      <th></th>\n",
              "      <th></th>\n",
              "      <th></th>\n",
              "      <th></th>\n",
              "      <th></th>\n",
              "      <th></th>\n",
              "    </tr>\n",
              "  </thead>\n",
              "  <tbody>\n",
              "    <tr>\n",
              "      <th>491108021919</th>\n",
              "      <td>1</td>\n",
              "      <td>1</td>\n",
              "      <td>0.041201</td>\n",
              "      <td>0.053846</td>\n",
              "      <td>0.930147</td>\n",
              "      <td>0.057890</td>\n",
              "      <td>0</td>\n",
              "      <td>19</td>\n",
              "      <td>N</td>\n",
              "      <td>0.014</td>\n",
              "      <td>43.0</td>\n",
              "      <td>F</td>\n",
              "      <td>GRD</td>\n",
              "      <td>MAR</td>\n",
              "      <td>0</td>\n",
              "      <td>15000.0</td>\n",
              "      <td>0.186667</td>\n",
              "      <td>3</td>\n",
              "      <td>BIS</td>\n",
              "    </tr>\n",
              "    <tr>\n",
              "      <th>404636562828</th>\n",
              "      <td>1</td>\n",
              "      <td>0</td>\n",
              "      <td>0.064801</td>\n",
              "      <td>0.035000</td>\n",
              "      <td>0.967519</td>\n",
              "      <td>0.036175</td>\n",
              "      <td>0</td>\n",
              "      <td>28</td>\n",
              "      <td>N</td>\n",
              "      <td>0.064</td>\n",
              "      <td>39.0</td>\n",
              "      <td>F</td>\n",
              "      <td>SCH</td>\n",
              "      <td>DIV</td>\n",
              "      <td>2</td>\n",
              "      <td>50000.0</td>\n",
              "      <td>0.028000</td>\n",
              "      <td>3</td>\n",
              "      <td>SPC</td>\n",
              "    </tr>\n",
              "    <tr>\n",
              "      <th>659245251111</th>\n",
              "      <td>1</td>\n",
              "      <td>1</td>\n",
              "      <td>0.601470</td>\n",
              "      <td>0.120000</td>\n",
              "      <td>0.996714</td>\n",
              "      <td>0.120396</td>\n",
              "      <td>1</td>\n",
              "      <td>11</td>\n",
              "      <td>N</td>\n",
              "      <td>0.209</td>\n",
              "      <td>31.0</td>\n",
              "      <td>F</td>\n",
              "      <td>SCH</td>\n",
              "      <td>MAR</td>\n",
              "      <td>0</td>\n",
              "      <td>NaN</td>\n",
              "      <td>NaN</td>\n",
              "      <td>3</td>\n",
              "      <td>SPC</td>\n",
              "    </tr>\n",
              "    <tr>\n",
              "      <th>567707361818</th>\n",
              "      <td>0</td>\n",
              "      <td>0</td>\n",
              "      <td>0.799017</td>\n",
              "      <td>0.120000</td>\n",
              "      <td>1.994808</td>\n",
              "      <td>0.060156</td>\n",
              "      <td>2</td>\n",
              "      <td>18</td>\n",
              "      <td>N</td>\n",
              "      <td>0.252</td>\n",
              "      <td>25.0</td>\n",
              "      <td>F</td>\n",
              "      <td>GRD</td>\n",
              "      <td>UNM</td>\n",
              "      <td>0</td>\n",
              "      <td>85000.0</td>\n",
              "      <td>0.197647</td>\n",
              "      <td>3</td>\n",
              "      <td>SPC</td>\n",
              "    </tr>\n",
              "    <tr>\n",
              "      <th>307377149149</th>\n",
              "      <td>0</td>\n",
              "      <td>0</td>\n",
              "      <td>0.142465</td>\n",
              "      <td>0.063333</td>\n",
              "      <td>1.050280</td>\n",
              "      <td>0.060301</td>\n",
              "      <td>1</td>\n",
              "      <td>149</td>\n",
              "      <td>N</td>\n",
              "      <td>0.039</td>\n",
              "      <td>68.0</td>\n",
              "      <td>F</td>\n",
              "      <td>GRD</td>\n",
              "      <td>MAR</td>\n",
              "      <td>2</td>\n",
              "      <td>NaN</td>\n",
              "      <td>NaN</td>\n",
              "      <td>3</td>\n",
              "      <td>PNA</td>\n",
              "    </tr>\n",
              "    <tr>\n",
              "      <th>...</th>\n",
              "      <td>...</td>\n",
              "      <td>...</td>\n",
              "      <td>...</td>\n",
              "      <td>...</td>\n",
              "      <td>...</td>\n",
              "      <td>...</td>\n",
              "      <td>...</td>\n",
              "      <td>...</td>\n",
              "      <td>...</td>\n",
              "      <td>...</td>\n",
              "      <td>...</td>\n",
              "      <td>...</td>\n",
              "      <td>...</td>\n",
              "      <td>...</td>\n",
              "      <td>...</td>\n",
              "      <td>...</td>\n",
              "      <td>...</td>\n",
              "      <td>...</td>\n",
              "      <td>...</td>\n",
              "    </tr>\n",
              "    <tr>\n",
              "      <th>376917993333</th>\n",
              "      <td>1</td>\n",
              "      <td>1</td>\n",
              "      <td>0.580007</td>\n",
              "      <td>0.120000</td>\n",
              "      <td>0.987668</td>\n",
              "      <td>0.121498</td>\n",
              "      <td>1</td>\n",
              "      <td>33</td>\n",
              "      <td>N</td>\n",
              "      <td>0.147</td>\n",
              "      <td>27.0</td>\n",
              "      <td>F</td>\n",
              "      <td>SCH</td>\n",
              "      <td>DIV</td>\n",
              "      <td>0</td>\n",
              "      <td>20000.0</td>\n",
              "      <td>0.030000</td>\n",
              "      <td>5</td>\n",
              "      <td>none</td>\n",
              "    </tr>\n",
              "    <tr>\n",
              "      <th>542616241616</th>\n",
              "      <td>0</td>\n",
              "      <td>1</td>\n",
              "      <td>0.053225</td>\n",
              "      <td>0.075000</td>\n",
              "      <td>1.230845</td>\n",
              "      <td>0.060934</td>\n",
              "      <td>0</td>\n",
              "      <td>16</td>\n",
              "      <td>N</td>\n",
              "      <td>0.074</td>\n",
              "      <td>48.0</td>\n",
              "      <td>M</td>\n",
              "      <td>GRD</td>\n",
              "      <td>MAR</td>\n",
              "      <td>0</td>\n",
              "      <td>50000.0</td>\n",
              "      <td>0.048000</td>\n",
              "      <td>3</td>\n",
              "      <td>BIS</td>\n",
              "    </tr>\n",
              "    <tr>\n",
              "      <th>8283058466</th>\n",
              "      <td>0</td>\n",
              "      <td>1</td>\n",
              "      <td>0.028680</td>\n",
              "      <td>0.005455</td>\n",
              "      <td>0.064257</td>\n",
              "      <td>0.084887</td>\n",
              "      <td>0</td>\n",
              "      <td>6</td>\n",
              "      <td>N</td>\n",
              "      <td>0.016</td>\n",
              "      <td>63.0</td>\n",
              "      <td>F</td>\n",
              "      <td>UGR</td>\n",
              "      <td>MAR</td>\n",
              "      <td>0</td>\n",
              "      <td>24000.0</td>\n",
              "      <td>0.025000</td>\n",
              "      <td>3</td>\n",
              "      <td>PNA</td>\n",
              "    </tr>\n",
              "    <tr>\n",
              "      <th>247503425353</th>\n",
              "      <td>1</td>\n",
              "      <td>1</td>\n",
              "      <td>0.204628</td>\n",
              "      <td>0.047692</td>\n",
              "      <td>0.778195</td>\n",
              "      <td>0.061286</td>\n",
              "      <td>1</td>\n",
              "      <td>53</td>\n",
              "      <td>N</td>\n",
              "      <td>0.059</td>\n",
              "      <td>48.0</td>\n",
              "      <td>M</td>\n",
              "      <td>SCH</td>\n",
              "      <td>CIV</td>\n",
              "      <td>0</td>\n",
              "      <td>30000.0</td>\n",
              "      <td>0.103333</td>\n",
              "      <td>7</td>\n",
              "      <td>PNI</td>\n",
              "    </tr>\n",
              "    <tr>\n",
              "      <th>299614524242</th>\n",
              "      <td>0</td>\n",
              "      <td>1</td>\n",
              "      <td>0.381803</td>\n",
              "      <td>0.059333</td>\n",
              "      <td>0.998488</td>\n",
              "      <td>0.059423</td>\n",
              "      <td>1</td>\n",
              "      <td>42</td>\n",
              "      <td>N</td>\n",
              "      <td>0.163</td>\n",
              "      <td>38.0</td>\n",
              "      <td>F</td>\n",
              "      <td>GRD</td>\n",
              "      <td>UNM</td>\n",
              "      <td>0</td>\n",
              "      <td>200000.0</td>\n",
              "      <td>0.044500</td>\n",
              "      <td>3</td>\n",
              "      <td>SPC</td>\n",
              "    </tr>\n",
              "  </tbody>\n",
              "</table>\n",
              "<p>425788 rows × 19 columns</p>\n",
              "</div>"
            ],
            "text/plain": [
              "              bot_fio  bot_mp  ...  time_zone_cd  job_position_cd\n",
              "new_rk                         ...                               \n",
              "491108021919        1       1  ...             3              BIS\n",
              "404636562828        1       0  ...             3              SPC\n",
              "659245251111        1       1  ...             3              SPC\n",
              "567707361818        0       0  ...             3              SPC\n",
              "307377149149        0       0  ...             3              PNA\n",
              "...               ...     ...  ...           ...              ...\n",
              "376917993333        1       1  ...             5             none\n",
              "542616241616        0       1  ...             3              BIS\n",
              "8283058466          0       1  ...             3              PNA\n",
              "247503425353        1       1  ...             7              PNI\n",
              "299614524242        0       1  ...             3              SPC\n",
              "\n",
              "[425788 rows x 19 columns]"
            ]
          },
          "metadata": {
            "tags": []
          },
          "execution_count": 6
        }
      ]
    },
    {
      "cell_type": "code",
      "metadata": {
        "colab": {
          "base_uri": "https://localhost:8080/",
          "height": 450
        },
        "id": "MsF_D8g4Fqq-",
        "outputId": "06ca2668-1b59-44f6-e0c9-1a94965d6074"
      },
      "source": [
        "df_train = df_[0:int(len(df_) / 2)][['w','y']]\n",
        "df_train"
      ],
      "execution_count": null,
      "outputs": [
        {
          "output_type": "execute_result",
          "data": {
            "text/html": [
              "<div>\n",
              "<style scoped>\n",
              "    .dataframe tbody tr th:only-of-type {\n",
              "        vertical-align: middle;\n",
              "    }\n",
              "\n",
              "    .dataframe tbody tr th {\n",
              "        vertical-align: top;\n",
              "    }\n",
              "\n",
              "    .dataframe thead th {\n",
              "        text-align: right;\n",
              "    }\n",
              "</style>\n",
              "<table border=\"1\" class=\"dataframe\">\n",
              "  <thead>\n",
              "    <tr style=\"text-align: right;\">\n",
              "      <th></th>\n",
              "      <th>w</th>\n",
              "      <th>y</th>\n",
              "    </tr>\n",
              "    <tr>\n",
              "      <th>new_rk</th>\n",
              "      <th></th>\n",
              "      <th></th>\n",
              "    </tr>\n",
              "  </thead>\n",
              "  <tbody>\n",
              "    <tr>\n",
              "      <th>491108021919</th>\n",
              "      <td>0</td>\n",
              "      <td>1</td>\n",
              "    </tr>\n",
              "    <tr>\n",
              "      <th>404636562828</th>\n",
              "      <td>0</td>\n",
              "      <td>1</td>\n",
              "    </tr>\n",
              "    <tr>\n",
              "      <th>659245251111</th>\n",
              "      <td>0</td>\n",
              "      <td>1</td>\n",
              "    </tr>\n",
              "    <tr>\n",
              "      <th>567707361818</th>\n",
              "      <td>0</td>\n",
              "      <td>1</td>\n",
              "    </tr>\n",
              "    <tr>\n",
              "      <th>307377149149</th>\n",
              "      <td>0</td>\n",
              "      <td>1</td>\n",
              "    </tr>\n",
              "    <tr>\n",
              "      <th>...</th>\n",
              "      <td>...</td>\n",
              "      <td>...</td>\n",
              "    </tr>\n",
              "    <tr>\n",
              "      <th>9985475222</th>\n",
              "      <td>1</td>\n",
              "      <td>1</td>\n",
              "    </tr>\n",
              "    <tr>\n",
              "      <th>425698202626</th>\n",
              "      <td>1</td>\n",
              "      <td>1</td>\n",
              "    </tr>\n",
              "    <tr>\n",
              "      <th>8302658255</th>\n",
              "      <td>1</td>\n",
              "      <td>1</td>\n",
              "    </tr>\n",
              "    <tr>\n",
              "      <th>7382146588</th>\n",
              "      <td>1</td>\n",
              "      <td>1</td>\n",
              "    </tr>\n",
              "    <tr>\n",
              "      <th>215793025959</th>\n",
              "      <td>0</td>\n",
              "      <td>0</td>\n",
              "    </tr>\n",
              "  </tbody>\n",
              "</table>\n",
              "<p>212894 rows × 2 columns</p>\n",
              "</div>"
            ],
            "text/plain": [
              "              w  y\n",
              "new_rk            \n",
              "491108021919  0  1\n",
              "404636562828  0  1\n",
              "659245251111  0  1\n",
              "567707361818  0  1\n",
              "307377149149  0  1\n",
              "...          .. ..\n",
              "9985475222    1  1\n",
              "425698202626  1  1\n",
              "8302658255    1  1\n",
              "7382146588    1  1\n",
              "215793025959  0  0\n",
              "\n",
              "[212894 rows x 2 columns]"
            ]
          },
          "metadata": {
            "tags": []
          },
          "execution_count": 7
        }
      ]
    },
    {
      "cell_type": "code",
      "metadata": {
        "colab": {
          "base_uri": "https://localhost:8080/",
          "height": 433
        },
        "id": "J0OEjLddGFn1",
        "outputId": "4228cdc3-9c88-4c21-9d85-c7200fed8600"
      },
      "source": [
        "df_test = pd.DataFrame(index=df_[int(len(df_) / 2):].index)\n",
        "df_test"
      ],
      "execution_count": null,
      "outputs": [
        {
          "output_type": "execute_result",
          "data": {
            "text/html": [
              "<div>\n",
              "<style scoped>\n",
              "    .dataframe tbody tr th:only-of-type {\n",
              "        vertical-align: middle;\n",
              "    }\n",
              "\n",
              "    .dataframe tbody tr th {\n",
              "        vertical-align: top;\n",
              "    }\n",
              "\n",
              "    .dataframe thead th {\n",
              "        text-align: right;\n",
              "    }\n",
              "</style>\n",
              "<table border=\"1\" class=\"dataframe\">\n",
              "  <thead>\n",
              "    <tr style=\"text-align: right;\">\n",
              "      <th></th>\n",
              "    </tr>\n",
              "    <tr>\n",
              "      <th>new_rk</th>\n",
              "    </tr>\n",
              "  </thead>\n",
              "  <tbody>\n",
              "    <tr>\n",
              "      <th>468995432525</th>\n",
              "    </tr>\n",
              "    <tr>\n",
              "      <th>426067482828</th>\n",
              "    </tr>\n",
              "    <tr>\n",
              "      <th>8740400344</th>\n",
              "    </tr>\n",
              "    <tr>\n",
              "      <th>318886494141</th>\n",
              "    </tr>\n",
              "    <tr>\n",
              "      <th>632155721515</th>\n",
              "    </tr>\n",
              "    <tr>\n",
              "      <th>...</th>\n",
              "    </tr>\n",
              "    <tr>\n",
              "      <th>376917993333</th>\n",
              "    </tr>\n",
              "    <tr>\n",
              "      <th>542616241616</th>\n",
              "    </tr>\n",
              "    <tr>\n",
              "      <th>8283058466</th>\n",
              "    </tr>\n",
              "    <tr>\n",
              "      <th>247503425353</th>\n",
              "    </tr>\n",
              "    <tr>\n",
              "      <th>299614524242</th>\n",
              "    </tr>\n",
              "  </tbody>\n",
              "</table>\n",
              "<p>212894 rows × 0 columns</p>\n",
              "</div>"
            ],
            "text/plain": [
              "Empty DataFrame\n",
              "Columns: []\n",
              "Index: [468995432525, 426067482828, 8740400344, 318886494141, 632155721515, 277050224747, 228479285555, 475189522323, 350130683535, 9075377922, 907158124124, 534302381919, 658676601212, 7425551788, 444490672525, 642402961414, 389282140140, 274207604646, 8260960455, 7877405766, 3227376102102, 422412532626, 3052921104104, 8138266655, 3995704344, 1649093114114, 4033661766, 7478848199, 7495465788, 351039213636, 7656423688, 385638163131, 435856138138, 511116872121, 9295525822, 430798602727, 543236911818, 8388917055, 362443323636, 210179815757, 313144314141, 455583342424, 307896144141, 315085954242, 645425571414, 712998631010, 291853304545, 591170081515, 139639017373, 664634761212, 300428034444, 420332762727, 7850573255, 142525557171, 448266138138, 5023418566, 699574541111, 260258945050, 7700288888, 3990134588, 161438707171, 134883817373, 450039862525, 245268744747, 375000873333, 424193362121, 176292246464, 404881113030, 431265462626, 192447646464, 624656251414, 8188131055, 215083615858, 8617930044, 9799677533, 491473382323, 353068843838, 9279938722, 309960254040, 358490283636, 494876022323, 394140140140, 410672922828, 8839892133, 401201312929, 8181754744, 8808837822, 516336232121, 9306057522, 8845187633, 7983408455, 657716071313, 126785955252, 515605682121, 109144618080, 7846148077, 523106252020, 9253571922, 517375662020, 3322316101101, ...]\n",
              "\n",
              "[212894 rows x 0 columns]"
            ]
          },
          "metadata": {
            "tags": []
          },
          "execution_count": 8
        }
      ]
    },
    {
      "cell_type": "code",
      "metadata": {
        "id": "EaYZvkD4HOTV"
      },
      "source": [
        "%matplotlib inline\n",
        "\n",
        "import pandas as pd; pd.set_option('display.max_columns', None)\n",
        "from sklearn.model_selection import train_test_split\n",
        "\n",
        "\n",
        "indices_train = df_train.index\n",
        "indices_test = df_test.index\n",
        "indices_learn, indices_valid = train_test_split(df_train.index, test_size=0.3, random_state=123)\n",
        "\n",
        "\n",
        "X_train = df_clients.loc[indices_learn, :]\n",
        "y_train = df_train.loc[indices_learn, 'y']\n",
        "treat_train = df_train.loc[indices_learn, 'w']\n",
        "\n",
        "X_val = df_clients.loc[indices_valid, :]\n",
        "y_val = df_train.loc[indices_valid, 'y']\n",
        "treat_val =  df_train.loc[indices_valid, 'w']\n",
        "\n",
        "X_train_full = df_clients.loc[indices_train, :]\n",
        "y_train_full = df_train.loc[:, 'y']\n",
        "treat_train_full = df_train.loc[:, 'w']\n",
        "\n",
        "X_test = df_clients.loc[indices_test, :]\n",
        "\n",
        "cat_features = ['bot_mp','bot_fio','onse_was_tunnel_flg','gender_cd','education_level_cd','marital_status_cd','time_zone_cd','job_position_cd']\n",
        "\n",
        "models_results = {\n",
        "    'approach': [],\n",
        "    'uplift@30%': []\n",
        "}"
      ],
      "execution_count": null,
      "outputs": []
    },
    {
      "cell_type": "code",
      "metadata": {
        "id": "MwT09z6YwWKe"
      },
      "source": [
        ""
      ],
      "execution_count": null,
      "outputs": []
    },
    {
      "cell_type": "code",
      "metadata": {
        "colab": {
          "base_uri": "https://localhost:8080/"
        },
        "id": "GG0aAJBQwAcn",
        "outputId": "385f35e7-ee3c-430a-f4cc-6ea22ce11115"
      },
      "source": [
        "len(df_clients), len(df_train), len(df_train)"
      ],
      "execution_count": null,
      "outputs": [
        {
          "output_type": "execute_result",
          "data": {
            "text/plain": [
              "(425788, 212894, 212894)"
            ]
          },
          "metadata": {
            "tags": []
          },
          "execution_count": 10
        }
      ]
    },
    {
      "cell_type": "code",
      "metadata": {
        "colab": {
          "base_uri": "https://localhost:8080/"
        },
        "id": "eN57y6uhJpBV",
        "outputId": "741bba7f-d394-4d2e-9b31-17ad5704f8b2"
      },
      "source": [
        "len(X_train), len(y_train), len(treat_train)"
      ],
      "execution_count": null,
      "outputs": [
        {
          "output_type": "execute_result",
          "data": {
            "text/plain": [
              "(149025, 149025, 149025)"
            ]
          },
          "metadata": {
            "tags": []
          },
          "execution_count": 11
        }
      ]
    },
    {
      "cell_type": "code",
      "metadata": {
        "colab": {
          "base_uri": "https://localhost:8080/",
          "height": 444
        },
        "id": "o--d9ec-I6p6",
        "outputId": "bc6e6e94-24db-49ff-fb91-88d4a29d10de"
      },
      "source": [
        "from sklift.metrics import uplift_at_k\n",
        "from sklift.viz import plot_uplift_preds\n",
        "from sklift.models import SoloModel\n",
        "\n",
        "# sklift поддерживает любые модели, \n",
        "# которые удовлетворяют соглашениями scikit-learn\n",
        "# Для примера воспользуемся catboost\n",
        "from catboost import CatBoostClassifier\n",
        "\n",
        "\n",
        "sm = SoloModel(CatBoostClassifier(iterations=20, thread_count=2, random_state=42, silent=True))\n",
        "sm = sm.fit(X_train, y_train, treat_train, estimator_fit_params={'cat_features': cat_features})\n",
        "\n",
        "uplift_sm = sm.predict(X_val)\n",
        "\n",
        "sm_score = uplift_at_k(y_true=y_val, uplift=uplift_sm, treatment=treat_val, strategy='by_group', k=0.3)\n",
        "\n",
        "models_results['approach'].append('SoloModel')\n",
        "models_results['uplift@30%'].append(sm_score)\n",
        "\n",
        "# Получим условные вероятности выполнения целевого действия при взаимодействии для каждого объекта\n",
        "sm_trmnt_preds = sm.trmnt_preds_\n",
        "# Получим условные вероятности выполнения целевого действия без взаимодействия для каждого объекта\n",
        "sm_ctrl_preds = sm.ctrl_preds_\n",
        "\n",
        "# Отрисуем распределения вероятностей и их разность (uplift)\n",
        "plot_uplift_preds(trmnt_preds=sm_trmnt_preds, ctrl_preds=sm_ctrl_preds);"
      ],
      "execution_count": null,
      "outputs": [
        {
          "output_type": "display_data",
          "data": {
            "image/png": "[encoded data removed]",
            "text/plain": [
              "<Figure size 1440x504 with 3 Axes>"
            ]
          },
          "metadata": {
            "tags": [],
            "needs_background": "light"
          }
        }
      ]
    },
    {
      "cell_type": "code",
      "metadata": {
        "colab": {
          "base_uri": "https://localhost:8080/",
          "height": 419
        },
        "id": "U1l4Xjpdssan",
        "outputId": "f76a6668-24fb-47c3-b889-bdcbc61abb4c"
      },
      "source": [
        "from sklift.viz import plot_uplift_curve\n",
        "\n",
        "# with ideal Qini curve (red line)\n",
        "# perfect=True\n",
        "plot_uplift_curve(y_val, uplift_sm, treat_val, perfect=False);"
      ],
      "execution_count": null,
      "outputs": [
        {
          "output_type": "display_data",
          "data": {
            "image/png": "[encoded data removed]",
            "text/plain": [
              "<Figure size 576x432 with 1 Axes>"
            ]
          },
          "metadata": {
            "tags": [],
            "needs_background": "light"
          }
        }
      ]
    },
    {
      "cell_type": "code",
      "metadata": {
        "colab": {
          "base_uri": "https://localhost:8080/",
          "height": 495
        },
        "id": "ysoJr_Yj-N9L",
        "outputId": "ad2bb453-6fde-4b8b-ddb5-3950ab52f067"
      },
      "source": [
        "from sklift.viz import plot_uplift_by_percentile\n",
        "\n",
        "\n",
        "plot_uplift_by_percentile(y_val, uplift_sm, treat_val, \n",
        "                          strategy='overall', kind='bar');"
      ],
      "execution_count": null,
      "outputs": [
        {
          "output_type": "stream",
          "text": [
            "/usr/local/lib/python3.7/dist-packages/numpy/core/_asarray.py:83: VisibleDeprecationWarning: Creating an ndarray from ragged nested sequences (which is a list-or-tuple of lists-or-tuples-or ndarrays with different lengths or shapes) is deprecated. If you meant to do this, you must specify 'dtype=object' when creating the ndarray\n",
            "  return array(a, dtype, copy=False, order=order)\n"
          ],
          "name": "stderr"
        },
        {
          "output_type": "display_data",
          "data": {
            "image/png": "[encoded data removed]",
            "text/plain": [
              "<Figure size 576x432 with 2 Axes>"
            ]
          },
          "metadata": {
            "tags": [],
            "needs_background": "light"
          }
        }
      ]
    },
    {
      "cell_type": "code",
      "metadata": {
        "colab": {
          "base_uri": "https://localhost:8080/",
          "height": 669
        },
        "id": "PHlf80CjJcrs",
        "outputId": "577b5d15-45c6-419d-e0d3-880a0a164297"
      },
      "source": [
        "# С той же легкостью можно обратиться к обученной модели.\n",
        "# Например, чтобы построить важность признаков:\n",
        "sm_fi = pd.DataFrame({\n",
        "    'feature_name': sm.estimator.feature_names_,\n",
        "    'feature_score': sm.estimator.feature_importances_\n",
        "}).sort_values('feature_score', ascending=False).reset_index(drop=True)\n",
        "\n",
        "sm_fi"
      ],
      "execution_count": null,
      "outputs": [
        {
          "output_type": "execute_result",
          "data": {
            "text/html": [
              "<div>\n",
              "<style scoped>\n",
              "    .dataframe tbody tr th:only-of-type {\n",
              "        vertical-align: middle;\n",
              "    }\n",
              "\n",
              "    .dataframe tbody tr th {\n",
              "        vertical-align: top;\n",
              "    }\n",
              "\n",
              "    .dataframe thead th {\n",
              "        text-align: right;\n",
              "    }\n",
              "</style>\n",
              "<table border=\"1\" class=\"dataframe\">\n",
              "  <thead>\n",
              "    <tr style=\"text-align: right;\">\n",
              "      <th></th>\n",
              "      <th>feature_name</th>\n",
              "      <th>feature_score</th>\n",
              "    </tr>\n",
              "  </thead>\n",
              "  <tbody>\n",
              "    <tr>\n",
              "      <th>0</th>\n",
              "      <td>p_def</td>\n",
              "      <td>30.244245</td>\n",
              "    </tr>\n",
              "    <tr>\n",
              "      <th>1</th>\n",
              "      <td>pd_base_calibrated</td>\n",
              "      <td>26.365727</td>\n",
              "    </tr>\n",
              "    <tr>\n",
              "      <th>2</th>\n",
              "      <td>max_missed_due_cnt</td>\n",
              "      <td>16.579737</td>\n",
              "    </tr>\n",
              "    <tr>\n",
              "      <th>3</th>\n",
              "      <td>balance_by_limit</td>\n",
              "      <td>9.199185</td>\n",
              "    </tr>\n",
              "    <tr>\n",
              "      <th>4</th>\n",
              "      <td>statement_num</td>\n",
              "      <td>4.362261</td>\n",
              "    </tr>\n",
              "    <tr>\n",
              "      <th>5</th>\n",
              "      <td>due_by_balance</td>\n",
              "      <td>3.162484</td>\n",
              "    </tr>\n",
              "    <tr>\n",
              "      <th>6</th>\n",
              "      <td>due_by_limit_100</td>\n",
              "      <td>2.828143</td>\n",
              "    </tr>\n",
              "    <tr>\n",
              "      <th>7</th>\n",
              "      <td>education_level_cd</td>\n",
              "      <td>1.974760</td>\n",
              "    </tr>\n",
              "    <tr>\n",
              "      <th>8</th>\n",
              "      <td>age</td>\n",
              "      <td>1.086647</td>\n",
              "    </tr>\n",
              "    <tr>\n",
              "      <th>9</th>\n",
              "      <td>onse_was_tunnel_flg</td>\n",
              "      <td>0.841990</td>\n",
              "    </tr>\n",
              "    <tr>\n",
              "      <th>10</th>\n",
              "      <td>monthly_income_amt</td>\n",
              "      <td>0.734796</td>\n",
              "    </tr>\n",
              "    <tr>\n",
              "      <th>11</th>\n",
              "      <td>bot_fio</td>\n",
              "      <td>0.637352</td>\n",
              "    </tr>\n",
              "    <tr>\n",
              "      <th>12</th>\n",
              "      <td>treatment</td>\n",
              "      <td>0.624183</td>\n",
              "    </tr>\n",
              "    <tr>\n",
              "      <th>13</th>\n",
              "      <td>due_by_income</td>\n",
              "      <td>0.532986</td>\n",
              "    </tr>\n",
              "    <tr>\n",
              "      <th>14</th>\n",
              "      <td>bot_mp</td>\n",
              "      <td>0.482785</td>\n",
              "    </tr>\n",
              "    <tr>\n",
              "      <th>15</th>\n",
              "      <td>job_position_cd</td>\n",
              "      <td>0.263512</td>\n",
              "    </tr>\n",
              "    <tr>\n",
              "      <th>16</th>\n",
              "      <td>children_cnt</td>\n",
              "      <td>0.078736</td>\n",
              "    </tr>\n",
              "    <tr>\n",
              "      <th>17</th>\n",
              "      <td>gender_cd</td>\n",
              "      <td>0.000471</td>\n",
              "    </tr>\n",
              "    <tr>\n",
              "      <th>18</th>\n",
              "      <td>marital_status_cd</td>\n",
              "      <td>0.000000</td>\n",
              "    </tr>\n",
              "    <tr>\n",
              "      <th>19</th>\n",
              "      <td>time_zone_cd</td>\n",
              "      <td>0.000000</td>\n",
              "    </tr>\n",
              "  </tbody>\n",
              "</table>\n",
              "</div>"
            ],
            "text/plain": [
              "           feature_name  feature_score\n",
              "0                 p_def      30.244245\n",
              "1    pd_base_calibrated      26.365727\n",
              "2    max_missed_due_cnt      16.579737\n",
              "3      balance_by_limit       9.199185\n",
              "4         statement_num       4.362261\n",
              "5        due_by_balance       3.162484\n",
              "6      due_by_limit_100       2.828143\n",
              "7    education_level_cd       1.974760\n",
              "8                   age       1.086647\n",
              "9   onse_was_tunnel_flg       0.841990\n",
              "10   monthly_income_amt       0.734796\n",
              "11              bot_fio       0.637352\n",
              "12            treatment       0.624183\n",
              "13        due_by_income       0.532986\n",
              "14               bot_mp       0.482785\n",
              "15      job_position_cd       0.263512\n",
              "16         children_cnt       0.078736\n",
              "17            gender_cd       0.000471\n",
              "18    marital_status_cd       0.000000\n",
              "19         time_zone_cd       0.000000"
            ]
          },
          "metadata": {
            "tags": []
          },
          "execution_count": 14
        }
      ]
    },
    {
      "cell_type": "code",
      "metadata": {
        "colab": {
          "base_uri": "https://localhost:8080/"
        },
        "id": "aAWTQBQnJvrh",
        "outputId": "4696a09d-f8e7-4bda-917f-8a2ea51e35e3"
      },
      "source": [
        "\n",
        "from sklift.models import ClassTransformation\n",
        "\n",
        "\n",
        "ct = ClassTransformation(CatBoostClassifier(iterations=20, thread_count=2, random_state=42, silent=True))\n",
        "ct = ct.fit(X_train, y_train, treat_train, estimator_fit_params={'cat_features': cat_features})\n",
        "\n",
        "uplift_ct = ct.predict(X_val)\n",
        "\n",
        "ct_score = uplift_at_k(y_true=y_val, uplift=uplift_ct, treatment=treat_val, strategy='by_group', k=0.3)\n",
        "\n",
        "models_results['approach'].append('ClassTransformation')\n",
        "models_results['uplift@30%'].append(ct_score)\n",
        "\n"
      ],
      "execution_count": null,
      "outputs": [
        {
          "output_type": "stream",
          "text": [
            "/usr/local/lib/python3.7/dist-packages/ipykernel_launcher.py:6: UserWarning: It is recommended to use this approach on treatment balanced data. Current sample size is unbalanced.\n",
            "  \n"
          ],
          "name": "stderr"
        }
      ]
    },
    {
      "cell_type": "code",
      "metadata": {
        "id": "HO3rgir-so2C"
      },
      "source": [
        ""
      ],
      "execution_count": null,
      "outputs": []
    },
    {
      "cell_type": "code",
      "metadata": {
        "colab": {
          "base_uri": "https://localhost:8080/",
          "height": 638
        },
        "id": "JJzXUCeQ4GX0",
        "outputId": "c61095fc-347a-4677-f304-1a7a1b073158"
      },
      "source": [
        "# С той же легкостью можно обратиться к обученной модели.\n",
        "# Например, чтобы построить важность признаков:\n",
        "ct_fi = pd.DataFrame({\n",
        "    'feature_name': ct.estimator.feature_names_,\n",
        "    'feature_score': ct.estimator.feature_importances_\n",
        "}).sort_values('feature_score', ascending=False).reset_index(drop=True)\n",
        "\n",
        "ct_fi"
      ],
      "execution_count": null,
      "outputs": [
        {
          "output_type": "execute_result",
          "data": {
            "text/html": [
              "<div>\n",
              "<style scoped>\n",
              "    .dataframe tbody tr th:only-of-type {\n",
              "        vertical-align: middle;\n",
              "    }\n",
              "\n",
              "    .dataframe tbody tr th {\n",
              "        vertical-align: top;\n",
              "    }\n",
              "\n",
              "    .dataframe thead th {\n",
              "        text-align: right;\n",
              "    }\n",
              "</style>\n",
              "<table border=\"1\" class=\"dataframe\">\n",
              "  <thead>\n",
              "    <tr style=\"text-align: right;\">\n",
              "      <th></th>\n",
              "      <th>feature_name</th>\n",
              "      <th>feature_score</th>\n",
              "    </tr>\n",
              "  </thead>\n",
              "  <tbody>\n",
              "    <tr>\n",
              "      <th>0</th>\n",
              "      <td>bot_mp</td>\n",
              "      <td>36.626071</td>\n",
              "    </tr>\n",
              "    <tr>\n",
              "      <th>1</th>\n",
              "      <td>p_def</td>\n",
              "      <td>26.800308</td>\n",
              "    </tr>\n",
              "    <tr>\n",
              "      <th>2</th>\n",
              "      <td>bot_fio</td>\n",
              "      <td>23.028128</td>\n",
              "    </tr>\n",
              "    <tr>\n",
              "      <th>3</th>\n",
              "      <td>pd_base_calibrated</td>\n",
              "      <td>6.576560</td>\n",
              "    </tr>\n",
              "    <tr>\n",
              "      <th>4</th>\n",
              "      <td>balance_by_limit</td>\n",
              "      <td>1.564973</td>\n",
              "    </tr>\n",
              "    <tr>\n",
              "      <th>5</th>\n",
              "      <td>due_by_balance</td>\n",
              "      <td>1.109593</td>\n",
              "    </tr>\n",
              "    <tr>\n",
              "      <th>6</th>\n",
              "      <td>max_missed_due_cnt</td>\n",
              "      <td>1.079200</td>\n",
              "    </tr>\n",
              "    <tr>\n",
              "      <th>7</th>\n",
              "      <td>due_by_limit_100</td>\n",
              "      <td>0.761465</td>\n",
              "    </tr>\n",
              "    <tr>\n",
              "      <th>8</th>\n",
              "      <td>statement_num</td>\n",
              "      <td>0.709522</td>\n",
              "    </tr>\n",
              "    <tr>\n",
              "      <th>9</th>\n",
              "      <td>monthly_income_amt</td>\n",
              "      <td>0.386132</td>\n",
              "    </tr>\n",
              "    <tr>\n",
              "      <th>10</th>\n",
              "      <td>due_by_income</td>\n",
              "      <td>0.360820</td>\n",
              "    </tr>\n",
              "    <tr>\n",
              "      <th>11</th>\n",
              "      <td>education_level_cd</td>\n",
              "      <td>0.283258</td>\n",
              "    </tr>\n",
              "    <tr>\n",
              "      <th>12</th>\n",
              "      <td>time_zone_cd</td>\n",
              "      <td>0.269915</td>\n",
              "    </tr>\n",
              "    <tr>\n",
              "      <th>13</th>\n",
              "      <td>children_cnt</td>\n",
              "      <td>0.226124</td>\n",
              "    </tr>\n",
              "    <tr>\n",
              "      <th>14</th>\n",
              "      <td>gender_cd</td>\n",
              "      <td>0.095904</td>\n",
              "    </tr>\n",
              "    <tr>\n",
              "      <th>15</th>\n",
              "      <td>age</td>\n",
              "      <td>0.085913</td>\n",
              "    </tr>\n",
              "    <tr>\n",
              "      <th>16</th>\n",
              "      <td>onse_was_tunnel_flg</td>\n",
              "      <td>0.023638</td>\n",
              "    </tr>\n",
              "    <tr>\n",
              "      <th>17</th>\n",
              "      <td>marital_status_cd</td>\n",
              "      <td>0.012476</td>\n",
              "    </tr>\n",
              "    <tr>\n",
              "      <th>18</th>\n",
              "      <td>job_position_cd</td>\n",
              "      <td>0.000000</td>\n",
              "    </tr>\n",
              "  </tbody>\n",
              "</table>\n",
              "</div>"
            ],
            "text/plain": [
              "           feature_name  feature_score\n",
              "0                bot_mp      36.626071\n",
              "1                 p_def      26.800308\n",
              "2               bot_fio      23.028128\n",
              "3    pd_base_calibrated       6.576560\n",
              "4      balance_by_limit       1.564973\n",
              "5        due_by_balance       1.109593\n",
              "6    max_missed_due_cnt       1.079200\n",
              "7      due_by_limit_100       0.761465\n",
              "8         statement_num       0.709522\n",
              "9    monthly_income_amt       0.386132\n",
              "10        due_by_income       0.360820\n",
              "11   education_level_cd       0.283258\n",
              "12         time_zone_cd       0.269915\n",
              "13         children_cnt       0.226124\n",
              "14            gender_cd       0.095904\n",
              "15                  age       0.085913\n",
              "16  onse_was_tunnel_flg       0.023638\n",
              "17    marital_status_cd       0.012476\n",
              "18      job_position_cd       0.000000"
            ]
          },
          "metadata": {
            "tags": []
          },
          "execution_count": 16
        }
      ]
    },
    {
      "cell_type": "code",
      "metadata": {
        "id": "qzNIl6U343Ud"
      },
      "source": [
        ""
      ],
      "execution_count": null,
      "outputs": []
    },
    {
      "cell_type": "code",
      "metadata": {
        "colab": {
          "base_uri": "https://localhost:8080/",
          "height": 495
        },
        "id": "a7JKJajSKdS2",
        "outputId": "eef37af6-caf5-429d-f478-62b48bcc9f7f"
      },
      "source": [
        "from sklift.viz import plot_uplift_by_percentile\n",
        "\n",
        "\n",
        "plot_uplift_by_percentile(y_val, uplift_ct, treat_val, \n",
        "                          strategy='overall', kind='bar');"
      ],
      "execution_count": null,
      "outputs": [
        {
          "output_type": "stream",
          "text": [
            "/usr/local/lib/python3.7/dist-packages/numpy/core/_asarray.py:83: VisibleDeprecationWarning: Creating an ndarray from ragged nested sequences (which is a list-or-tuple of lists-or-tuples-or ndarrays with different lengths or shapes) is deprecated. If you meant to do this, you must specify 'dtype=object' when creating the ndarray\n",
            "  return array(a, dtype, copy=False, order=order)\n"
          ],
          "name": "stderr"
        },
        {
          "output_type": "display_data",
          "data": {
            "image/png": "[encoded data removed]",
            "text/plain": [
              "<Figure size 576x432 with 2 Axes>"
            ]
          },
          "metadata": {
            "tags": [],
            "needs_background": "light"
          }
        }
      ]
    },
    {
      "cell_type": "code",
      "metadata": {
        "colab": {
          "base_uri": "https://localhost:8080/",
          "height": 419
        },
        "id": "qZcoFUaE5Dsx",
        "outputId": "d460a0b5-bb3f-4307-8653-90f4e2de08e5"
      },
      "source": [
        "from sklift.viz import plot_uplift_curve\n",
        "\n",
        "# with ideal curve\n",
        "# perfect=True\n",
        "plot_uplift_curve(y_val, uplift_ct, treat_val, perfect=False);"
      ],
      "execution_count": null,
      "outputs": [
        {
          "output_type": "display_data",
          "data": {
            "image/png": "[encoded data removed]",
            "text/plain": [
              "<Figure size 576x432 with 1 Axes>"
            ]
          },
          "metadata": {
            "tags": [],
            "needs_background": "light"
          }
        }
      ]
    },
    {
      "cell_type": "code",
      "metadata": {
        "colab": {
          "base_uri": "https://localhost:8080/",
          "height": 444
        },
        "id": "3Y1vx8o_7RYm",
        "outputId": "7e1134f7-2283-41b0-9943-3ecd4d9f5160"
      },
      "source": [
        "from sklift.models import TwoModels\n",
        "\n",
        "\n",
        "tm = TwoModels(\n",
        "    estimator_trmnt=CatBoostClassifier(iterations=20, thread_count=2, random_state=42, silent=True), \n",
        "    estimator_ctrl=CatBoostClassifier(iterations=20, thread_count=2, random_state=42, silent=True), \n",
        "    method='vanilla'\n",
        ")\n",
        "tm = tm.fit(\n",
        "    X_train, y_train, treat_train,\n",
        "    estimator_trmnt_fit_params={'cat_features': cat_features}, \n",
        "    estimator_ctrl_fit_params={'cat_features': cat_features}\n",
        ")\n",
        "\n",
        "uplift_tm = tm.predict(X_val)\n",
        "\n",
        "tm_score = uplift_at_k(y_true=y_val, uplift=uplift_tm, treatment=treat_val, strategy='by_group', k=0.3)\n",
        "\n",
        "models_results['approach'].append('TwoModels')\n",
        "models_results['uplift@30%'].append(tm_score)\n",
        "\n",
        "plot_uplift_preds(trmnt_preds=tm.trmnt_preds_, ctrl_preds=tm.ctrl_preds_);"
      ],
      "execution_count": null,
      "outputs": [
        {
          "output_type": "display_data",
          "data": {
            "image/png": "[encoded data removed]",
            "text/plain": [
              "<Figure size 1440x504 with 3 Axes>"
            ]
          },
          "metadata": {
            "tags": [],
            "needs_background": "light"
          }
        }
      ]
    },
    {
      "cell_type": "code",
      "metadata": {
        "id": "5-dbBRxy4bBL",
        "colab": {
          "base_uri": "https://localhost:8080/",
          "height": 419
        },
        "outputId": "aee792ce-5d6a-493a-b42a-83847c4906b7"
      },
      "source": [
        "from sklift.viz import plot_qini_curve\n",
        "\n",
        "# with ideal Qini curve (red line)\n",
        "# perfect=True\n",
        "plot_uplift_curve(y_val, uplift_tm, treat_val, perfect=False);"
      ],
      "execution_count": null,
      "outputs": [
        {
          "output_type": "display_data",
          "data": {
            "image/png": "[encoded data removed]",
            "text/plain": [
              "<Figure size 576x432 with 1 Axes>"
            ]
          },
          "metadata": {
            "tags": [],
            "needs_background": "light"
          }
        }
      ]
    },
    {
      "cell_type": "code",
      "metadata": {
        "colab": {
          "base_uri": "https://localhost:8080/",
          "height": 444
        },
        "id": "nHeKh_8k7dwn",
        "outputId": "1291e3e2-03ef-44f7-c0db-0d5fda281f15"
      },
      "source": [
        "tm_ctrl = TwoModels(\n",
        "    estimator_trmnt=CatBoostClassifier(iterations=20, thread_count=2, random_state=42, silent=True), \n",
        "    estimator_ctrl=CatBoostClassifier(iterations=20, thread_count=2, random_state=42, silent=True), \n",
        "    method='ddr_control'\n",
        ")\n",
        "tm_ctrl = tm_ctrl.fit(\n",
        "    X_train, y_train, treat_train,\n",
        "    estimator_trmnt_fit_params={'cat_features': cat_features}, \n",
        "    estimator_ctrl_fit_params={'cat_features': cat_features}\n",
        ")\n",
        "\n",
        "uplift_tm_ctrl = tm_ctrl.predict(X_val)\n",
        "\n",
        "tm_ctrl_score = uplift_at_k(y_true=y_val, uplift=uplift_tm_ctrl, treatment=treat_val, strategy='by_group', k=0.3)\n",
        "\n",
        "models_results['approach'].append('TwoModels_ddr_control')\n",
        "models_results['uplift@30%'].append(tm_ctrl_score)\n",
        "\n",
        "plot_uplift_preds(trmnt_preds=tm_ctrl.trmnt_preds_, ctrl_preds=tm_ctrl.ctrl_preds_);"
      ],
      "execution_count": null,
      "outputs": [
        {
          "output_type": "display_data",
          "data": {
            "image/png": "[encoded data removed]",
            "text/plain": [
              "<Figure size 1440x504 with 3 Axes>"
            ]
          },
          "metadata": {
            "tags": [],
            "needs_background": "light"
          }
        }
      ]
    },
    {
      "cell_type": "code",
      "metadata": {
        "colab": {
          "base_uri": "https://localhost:8080/",
          "height": 444
        },
        "id": "IJ3JXhZH_gMa",
        "outputId": "4a4b3192-072a-45ec-c598-bd8bd98fc81a"
      },
      "source": [
        "tm_trmnt = TwoModels(\n",
        "    estimator_trmnt=CatBoostClassifier(iterations=20, thread_count=2, random_state=42, silent=True), \n",
        "    estimator_ctrl=CatBoostClassifier(iterations=20, thread_count=2, random_state=42, silent=True), \n",
        "    method='ddr_treatment'\n",
        ")\n",
        "tm_trmnt = tm_trmnt.fit(\n",
        "    X_train, y_train, treat_train,\n",
        "    estimator_trmnt_fit_params={'cat_features': cat_features}, \n",
        "    estimator_ctrl_fit_params={'cat_features': cat_features}\n",
        ")\n",
        "\n",
        "uplift_tm_trmnt = tm_trmnt.predict(X_val)\n",
        "\n",
        "tm_trmnt_score = uplift_at_k(y_true=y_val, uplift=uplift_tm_trmnt, treatment=treat_val, strategy='by_group', k=0.3)\n",
        "\n",
        "models_results['approach'].append('TwoModels_ddr_treatment')\n",
        "models_results['uplift@30%'].append(tm_trmnt_score)\n",
        "\n",
        "plot_uplift_preds(trmnt_preds=tm_trmnt.trmnt_preds_, ctrl_preds=tm_trmnt.ctrl_preds_);"
      ],
      "execution_count": null,
      "outputs": [
        {
          "output_type": "display_data",
          "data": {
            "image/png": "[encoded data removed]",
            "text/plain": [
              "<Figure size 1440x504 with 3 Axes>"
            ]
          },
          "metadata": {
            "tags": [],
            "needs_background": "light"
          }
        }
      ]
    },
    {
      "cell_type": "code",
      "metadata": {
        "colab": {
          "base_uri": "https://localhost:8080/",
          "height": 419
        },
        "id": "Rw52MbEilF3r",
        "outputId": "b9b7c089-29a0-4399-acd0-159bf8d3561d"
      },
      "source": [
        "from sklift.viz import plot_qini_curve\n",
        "\n",
        "# with ideal Qini curve (red line)\n",
        "# perfect=True\n",
        "plot_qini_curve(y_val, uplift_tm_trmnt, treat_val, perfect=False);"
      ],
      "execution_count": null,
      "outputs": [
        {
          "output_type": "display_data",
          "data": {
            "image/png": "[encoded data removed]",
            "text/plain": [
              "<Figure size 576x432 with 1 Axes>"
            ]
          },
          "metadata": {
            "tags": [],
            "needs_background": "light"
          }
        }
      ]
    },
    {
      "cell_type": "code",
      "metadata": {
        "colab": {
          "base_uri": "https://localhost:8080/",
          "height": 204
        },
        "id": "vIPbPdV__lF8",
        "outputId": "7ca5780c-5608-4074-a001-a4c05b6168b4"
      },
      "source": [
        "pd.DataFrame(data=models_results).sort_values('uplift@30%', ascending=False)"
      ],
      "execution_count": null,
      "outputs": [
        {
          "output_type": "execute_result",
          "data": {
            "text/html": [
              "<div>\n",
              "<style scoped>\n",
              "    .dataframe tbody tr th:only-of-type {\n",
              "        vertical-align: middle;\n",
              "    }\n",
              "\n",
              "    .dataframe tbody tr th {\n",
              "        vertical-align: top;\n",
              "    }\n",
              "\n",
              "    .dataframe thead th {\n",
              "        text-align: right;\n",
              "    }\n",
              "</style>\n",
              "<table border=\"1\" class=\"dataframe\">\n",
              "  <thead>\n",
              "    <tr style=\"text-align: right;\">\n",
              "      <th></th>\n",
              "      <th>approach</th>\n",
              "      <th>uplift@30%</th>\n",
              "    </tr>\n",
              "  </thead>\n",
              "  <tbody>\n",
              "    <tr>\n",
              "      <th>1</th>\n",
              "      <td>ClassTransformation</td>\n",
              "      <td>0.118679</td>\n",
              "    </tr>\n",
              "    <tr>\n",
              "      <th>2</th>\n",
              "      <td>TwoModels</td>\n",
              "      <td>0.017293</td>\n",
              "    </tr>\n",
              "    <tr>\n",
              "      <th>4</th>\n",
              "      <td>TwoModels_ddr_treatment</td>\n",
              "      <td>0.017164</td>\n",
              "    </tr>\n",
              "    <tr>\n",
              "      <th>0</th>\n",
              "      <td>SoloModel</td>\n",
              "      <td>0.012415</td>\n",
              "    </tr>\n",
              "    <tr>\n",
              "      <th>3</th>\n",
              "      <td>TwoModels_ddr_control</td>\n",
              "      <td>0.009058</td>\n",
              "    </tr>\n",
              "  </tbody>\n",
              "</table>\n",
              "</div>"
            ],
            "text/plain": [
              "                  approach  uplift@30%\n",
              "1      ClassTransformation    0.118679\n",
              "2                TwoModels    0.017293\n",
              "4  TwoModels_ddr_treatment    0.017164\n",
              "0                SoloModel    0.012415\n",
              "3    TwoModels_ddr_control    0.009058"
            ]
          },
          "metadata": {
            "tags": []
          },
          "execution_count": 25
        }
      ]
    },
    {
      "cell_type": "code",
      "metadata": {
        "colab": {
          "base_uri": "https://localhost:8080/"
        },
        "id": "yErk9BsC_pOm",
        "outputId": "f9405a7f-e96d-459f-c466-94741ce84c86"
      },
      "source": [
        "ct_full = ClassTransformation(CatBoostClassifier(iterations=20, thread_count=2, random_state=42, silent=True))\n",
        "ct_full = ct_full.fit(\n",
        "    X_train_full, \n",
        "    y_train_full, \n",
        "    treat_train_full, \n",
        "    estimator_fit_params={'cat_features': cat_features}\n",
        ")\n",
        "\n",
        "X_test.loc[:, 'uplift'] = ct_full.predict(X_test.values)\n",
        "\n",
        "sub = X_test[['uplift']].to_csv('sub1.csv')\n",
        "\n",
        "!head -n 5 sub1.csv"
      ],
      "execution_count": null,
      "outputs": [
        {
          "output_type": "stream",
          "text": [
            "/usr/local/lib/python3.7/dist-packages/ipykernel_launcher.py:6: UserWarning: It is recommended to use this approach on treatment balanced data. Current sample size is unbalanced.\n",
            "  \n"
          ],
          "name": "stderr"
        },
        {
          "output_type": "stream",
          "text": [
            "new_rk,uplift\n",
            "468995432525,0.03583871465503452\n",
            "426067482828,0.2945961742977936\n",
            "8740400344,0.011395629016284214\n",
            "318886494141,0.2791257313548199\n"
          ],
          "name": "stdout"
        }
      ]
    },
    {
      "cell_type": "code",
      "metadata": {
        "colab": {
          "base_uri": "https://localhost:8080/",
          "height": 638
        },
        "id": "xq3-l0jI_0fh",
        "outputId": "794a0973-4f70-4768-ab3f-44224c1fe70e"
      },
      "source": [
        "ct_full_fi = pd.DataFrame({\n",
        "    'feature_name': ct_full.estimator.feature_names_,\n",
        "    'feature_score': ct_full.estimator.feature_importances_\n",
        "}).sort_values('feature_score', ascending=False).reset_index(drop=True)\n",
        "\n",
        "ct_full_fi"
      ],
      "execution_count": null,
      "outputs": [
        {
          "output_type": "execute_result",
          "data": {
            "text/html": [
              "<div>\n",
              "<style scoped>\n",
              "    .dataframe tbody tr th:only-of-type {\n",
              "        vertical-align: middle;\n",
              "    }\n",
              "\n",
              "    .dataframe tbody tr th {\n",
              "        vertical-align: top;\n",
              "    }\n",
              "\n",
              "    .dataframe thead th {\n",
              "        text-align: right;\n",
              "    }\n",
              "</style>\n",
              "<table border=\"1\" class=\"dataframe\">\n",
              "  <thead>\n",
              "    <tr style=\"text-align: right;\">\n",
              "      <th></th>\n",
              "      <th>feature_name</th>\n",
              "      <th>feature_score</th>\n",
              "    </tr>\n",
              "  </thead>\n",
              "  <tbody>\n",
              "    <tr>\n",
              "      <th>0</th>\n",
              "      <td>bot_mp</td>\n",
              "      <td>37.214402</td>\n",
              "    </tr>\n",
              "    <tr>\n",
              "      <th>1</th>\n",
              "      <td>p_def</td>\n",
              "      <td>24.967659</td>\n",
              "    </tr>\n",
              "    <tr>\n",
              "      <th>2</th>\n",
              "      <td>bot_fio</td>\n",
              "      <td>23.073151</td>\n",
              "    </tr>\n",
              "    <tr>\n",
              "      <th>3</th>\n",
              "      <td>pd_base_calibrated</td>\n",
              "      <td>7.317015</td>\n",
              "    </tr>\n",
              "    <tr>\n",
              "      <th>4</th>\n",
              "      <td>balance_by_limit</td>\n",
              "      <td>1.527758</td>\n",
              "    </tr>\n",
              "    <tr>\n",
              "      <th>5</th>\n",
              "      <td>age</td>\n",
              "      <td>0.947044</td>\n",
              "    </tr>\n",
              "    <tr>\n",
              "      <th>6</th>\n",
              "      <td>monthly_income_amt</td>\n",
              "      <td>0.845812</td>\n",
              "    </tr>\n",
              "    <tr>\n",
              "      <th>7</th>\n",
              "      <td>due_by_balance</td>\n",
              "      <td>0.792347</td>\n",
              "    </tr>\n",
              "    <tr>\n",
              "      <th>8</th>\n",
              "      <td>education_level_cd</td>\n",
              "      <td>0.628711</td>\n",
              "    </tr>\n",
              "    <tr>\n",
              "      <th>9</th>\n",
              "      <td>statement_num</td>\n",
              "      <td>0.528520</td>\n",
              "    </tr>\n",
              "    <tr>\n",
              "      <th>10</th>\n",
              "      <td>max_missed_due_cnt</td>\n",
              "      <td>0.466541</td>\n",
              "    </tr>\n",
              "    <tr>\n",
              "      <th>11</th>\n",
              "      <td>due_by_limit_100</td>\n",
              "      <td>0.461140</td>\n",
              "    </tr>\n",
              "    <tr>\n",
              "      <th>12</th>\n",
              "      <td>due_by_income</td>\n",
              "      <td>0.380613</td>\n",
              "    </tr>\n",
              "    <tr>\n",
              "      <th>13</th>\n",
              "      <td>onse_was_tunnel_flg</td>\n",
              "      <td>0.282528</td>\n",
              "    </tr>\n",
              "    <tr>\n",
              "      <th>14</th>\n",
              "      <td>children_cnt</td>\n",
              "      <td>0.203744</td>\n",
              "    </tr>\n",
              "    <tr>\n",
              "      <th>15</th>\n",
              "      <td>time_zone_cd</td>\n",
              "      <td>0.157200</td>\n",
              "    </tr>\n",
              "    <tr>\n",
              "      <th>16</th>\n",
              "      <td>marital_status_cd</td>\n",
              "      <td>0.102957</td>\n",
              "    </tr>\n",
              "    <tr>\n",
              "      <th>17</th>\n",
              "      <td>gender_cd</td>\n",
              "      <td>0.102859</td>\n",
              "    </tr>\n",
              "    <tr>\n",
              "      <th>18</th>\n",
              "      <td>job_position_cd</td>\n",
              "      <td>0.000000</td>\n",
              "    </tr>\n",
              "  </tbody>\n",
              "</table>\n",
              "</div>"
            ],
            "text/plain": [
              "           feature_name  feature_score\n",
              "0                bot_mp      37.214402\n",
              "1                 p_def      24.967659\n",
              "2               bot_fio      23.073151\n",
              "3    pd_base_calibrated       7.317015\n",
              "4      balance_by_limit       1.527758\n",
              "5                   age       0.947044\n",
              "6    monthly_income_amt       0.845812\n",
              "7        due_by_balance       0.792347\n",
              "8    education_level_cd       0.628711\n",
              "9         statement_num       0.528520\n",
              "10   max_missed_due_cnt       0.466541\n",
              "11     due_by_limit_100       0.461140\n",
              "12        due_by_income       0.380613\n",
              "13  onse_was_tunnel_flg       0.282528\n",
              "14         children_cnt       0.203744\n",
              "15         time_zone_cd       0.157200\n",
              "16    marital_status_cd       0.102957\n",
              "17            gender_cd       0.102859\n",
              "18      job_position_cd       0.000000"
            ]
          },
          "metadata": {
            "tags": []
          },
          "execution_count": 27
        }
      ]
    }
  ]
}